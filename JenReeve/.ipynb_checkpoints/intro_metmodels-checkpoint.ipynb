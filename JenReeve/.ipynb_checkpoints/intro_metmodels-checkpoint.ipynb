{
 "cells": [
  {
   "cell_type": "markdown",
   "metadata": {},
   "source": [
    "# Introduction to Metabolic Modeling and Tellurium\n",
    "Notebook to go through basics of biochemical modeling (ie trying to convert my notes into a coherent document.\n",
    "\n",
    "First things first: set up the python packages we need."
   ]
  },
  {
   "cell_type": "code",
   "execution_count": null,
   "metadata": {},
   "outputs": [],
   "source": [
    "import tellurium as te # this will be our workhorse package\n",
    "import math # helpful for some non-Tellurium based calculations\n",
    "import numpy as np # helpful for some non-Tellurium based calculations\n",
    "import matplotlib.pyplot as plt # let's us mess around with plots a bit more"
   ]
  },
  {
   "cell_type": "markdown",
   "metadata": {},
   "source": [
    "# Resources:\n",
    "\n",
    "We are using [Tellurium](tellurium.analogmachine.org) for do the modeling of biological systems. The [documentation](https://tellurium.readthedocs.io/en/latest/index.html#) is quite useful and full of examples.\n",
    "\n",
    "There is a useful textbook that you may want to grab a pdf copy of *Systems Biology: Introduction to Pathway Modeling* (on the [analogmachine website](http://books.analogmachine.org/)).\n",
    "\n",
    "Tellurium makes it very easy to import models from [Biomodels](https://www.ebi.ac.uk/biomodels/) (where you can browse 10k models).\n",
    "\n",
    "Two resources for finding starting numbers for any number of cell related things: [Bionumbers](https://bionumbers.hms.harvard.edu/search.aspx) or [Cell Biology by the Numbers](book.bionumbers.org)\n",
    "\n"
   ]
  },
  {
   "cell_type": "markdown",
   "metadata": {},
   "source": [
    "## Thought experiment: What is the concentration of a single molecule in an *E. coli* cell?\n",
    "Start with a radium of 1$\\mu$m\n",
    "\n",
    "Guess radius to be 1um, so the volume (assuming a cube) is 1um^3. There are 1000L in 1m^3 and 1mL is 1cm3. The volume of the cell in L is 1x10^(-15)L\n",
    "\n",
    "1 molecule is 1x10^(-24)moles\n",
    "\n",
    "So the concentration of 1 molecule in an E. coli cell is 1x10^(-9)M aka 1nM so this is the lowest possible concentration of a metabolite/substance of interest in a cell. And while we are in the nM range we can't have halves.\n",
    "\n",
    "The total concentration of stuff in an E. coli cell is ~100mM."
   ]
  }
 ],
 "metadata": {
  "kernelspec": {
   "display_name": "Python 3 (Spyder)",
   "language": "python3",
   "name": "python3"
  },
  "language_info": {
   "codemirror_mode": {
    "name": "ipython",
    "version": 3
   },
   "file_extension": ".py",
   "mimetype": "text/x-python",
   "name": "python",
   "nbconvert_exporter": "python",
   "pygments_lexer": "ipython3",
   "version": "3.6.8"
  }
 },
 "nbformat": 4,
 "nbformat_minor": 2
}
