{
 "cells": [
  {
   "cell_type": "markdown",
   "metadata": {},
   "source": [
    "# Introduction to Metabolic Modeling and Tellurium\n",
    "Notebook to go through basics of biochemical modeling (ie trying to convert my notes into a coherent document.\n",
    "\n",
    "First things first: set up the python packages we need."
   ]
  },
  {
   "cell_type": "code",
   "execution_count": 2,
   "metadata": {},
   "outputs": [],
   "source": [
    "import tellurium as te # this will be our workhorse package\n",
    "import math # helpful for some non-Tellurium based calculations\n",
    "import numpy as np # helpful for some non-Tellurium based calculations\n",
    "import matplotlib.pyplot as plt # let's us mess around with plots a bit more"
   ]
  },
  {
   "cell_type": "markdown",
   "metadata": {},
   "source": [
    "# Resources:\n",
    "\n",
    "We are using [Tellurium](tellurium.analogmachine.org) for do the modeling of biological systems. The [documentation](https://tellurium.readthedocs.io/en/latest/index.html#) is quite useful and full of examples.\n",
    "\n",
    "There is a useful textbook that you may want to grab a pdf copy of *Systems Biology: Introduction to Pathway Modeling* (on the [analogmachine website](http://books.analogmachine.org/)).\n",
    "\n",
    "Tellurium makes it very easy to import models from [Biomodels](https://www.ebi.ac.uk/biomodels/) (where you can browse 10k models).\n",
    "\n",
    "Two resources for finding starting numbers for any number of cell related things: [Bionumbers](https://bionumbers.hms.harvard.edu/search.aspx) or [Cell Biology by the Numbers](book.bionumbers.org)\n",
    "\n",
    "Use [Brenda](https://www.brenda-enzymes.org/) to get the enzyme kinetic information.\n",
    "\n"
   ]
  },
  {
   "cell_type": "markdown",
   "metadata": {},
   "source": [
    "## Thought experiment: What is the concentration of a single molecule in an *E. coli* cell?\n"
   ]
  },
  {
   "cell_type": "markdown",
   "metadata": {},
   "source": [
    "Start with a cubic cell with a length of 1$\\mu m$. This means that the volume of the cell is 1$\\mu m^3$.\n",
    "\n",
    "For concentrations we need to have volume units of liters not $m^3$. There are 1000 L in 1 $m^3$ and 1 mL in 1 $cm^3$. So we get a cell volume of $1 * 10^{-15}$ L.\n"
   ]
  },
  {
   "cell_type": "code",
   "execution_count": 10,
   "metadata": {},
   "outputs": [
    {
     "name": "stdout",
     "output_type": "stream",
     "text": [
      "1 um^3\n",
      "1e-18 m^3\n",
      "1e-15 L\n"
     ]
    }
   ],
   "source": [
    "cell_volume_um3 = 1; # um^3\n",
    "print(cell_volume_um3, \"um^3\")\n",
    "cell_volume_m3 = cell_volume_um3 * (1/(10**6)**3); # m^3\n",
    "print(cell_volume_m3,\"m^3\")\n",
    "cell_volume_L = cell_volume_m3 * 1000; # L\n",
    "print(cell_volume_L,\"L\")"
   ]
  },
  {
   "cell_type": "markdown",
   "metadata": {},
   "source": [
    "Now to consider the molecule. We think about stuff in terms of moles and as we know from Avogadro one molecule is approximately $1*10^{-24}$ moles.\n",
    "\n",
    "So to get the concentration of a single molecule in a cell we need to take the number of moles in a molecule and divide it by the volume of the cell."
   ]
  },
  {
   "cell_type": "code",
   "execution_count": 11,
   "metadata": {},
   "outputs": [
    {
     "name": "stdout",
     "output_type": "stream",
     "text": [
      "1e-24 moles\n",
      "9.999999999999999e-10 M\n"
     ]
    }
   ],
   "source": [
    "molecule = 1*10**(-24); # moles\n",
    "print(molecule,\"moles\")\n",
    "concentration = molecule/cell_volume_L; # M\n",
    "print(concentration,\"M\")"
   ]
  },
  {
   "cell_type": "markdown",
   "metadata": {},
   "source": [
    "So the concentration of 1 molecule in an *E. coli* cell is $1*10^{-9}$ M aka 1 nM so this is the lowest possible concentration of a metabolite/substance of interest in a cell. It is worth remembering that this means that while we are in the nM range we can't have halves.\n",
    "\n",
    "What about the flip side? What is the maximum concentration of stuff in an *E. coli* cell?\n",
    "\n",
    "**I don't remember how we did this beyond thinking about the concentrations in media?** The total concentration of stuff in an *E. coli* cell is ~100mM."
   ]
  },
  {
   "cell_type": "markdown",
   "metadata": {},
   "source": [
    "<h2> Menten Model of Enzyme Kinetics </h2>"
   ]
  },
  {
   "cell_type": "markdown",
   "metadata": {},
   "source": [
    "The unit process of biochemistry can be represented graphically as Substrate + Enzyme <=> Enzyme-Substrate (Complex) => Product + Enzyme\n",
    "\n",
    "This is Michaelis-Menten model (but we will call it the Menten model because she deserves all the credit).\n",
    "\n",
    "We can break this down into three rate parameters, one for each potential direction of reaction flow.\n",
    "$k_{+1}$ is the kinetic parameter for the forward direction of the first step ($S+E -> C$).\n",
    "$k_{-1}$ is the kinetic parameter for the reverse direction of the first step ($C -> S+E$).\n",
    "And $k_{+2}$ is the kinetic parameter for the forward direction of the second step ($C -> P + E$).\n",
    "\n",
    "The net rate of the reaction is simply the rate of accumulation of the product.\n",
    "So we can define the reaction velocity as $V(S) = \\frac{dP}{dt}$.\n",
    "This reaction velocity does not depend on the concentration of product, but is dependent on the concentration of substrate.\n",
    "\n",
    "Because the full reaction velocity is just the accumulation of product we can easily define it as $V(S) = k_{+2} * C$.\n",
    "\n",
    "Menten assumed that the concentration of the substrate was much much greater than the concentration of the enzyme.\n",
    "This means that as soon as enzyme is freed up by $k_{+2}$ it can be incorporated into a new complex, so the complex is kept at steady concentrations: $\\frac{dC}{dt} = 0$\n",
    "\n",
    "Moving this forward we get a pair of rate laws that reflect these transformations:\n",
    "\n",
    "1. The consumption of the enzyme-substrate complex is equal to the production of the enzyme-substrate complex: $(k_{+2}+k_{-1}) C = k_{+1} S * E$\n",
    "\n",
    "   These rate constants have different units. Consumption has units per time. Production has units of per time * something\n",
    "\n",
    "2. The total enzyme present is equal to the free enzyme times the amount bound up in a complex: $E_{total} = E + C$\n",
    "\n",
    "    Which we can rearrange to: $E = E_{total} - C$\n",
    "\n",
    "We can combine these two rate laws (and rearrange a little) to get: $(k_{+2}+k_{-1}) C + k_{+1} S * C = k_{+1} E_{total} * S$\n",
    "\n",
    "A little more rearranging to look at the concentration of complex:\n",
    "\n",
    "$$C = \\frac{k_{+1} E_{total} * S} {(k_{+2}+k_{-1}) + k_{+1} * S} = \\frac{E_{total} * S}{(k_{+2} + \\frac{k_{-1}}{k_{+1}}) + S}$$\n",
    "\n",
    "Now we can consider two endmember scenarios:\n",
    "\n",
    "**Endmember 1:** If the concentration of the substrate is much much bigger than the kinetic ratio $\\frac{k_{+2}+k_{-1}}{k_{+1}}$ then $V = k_{+2} * E_{total}$ which defines $V_{max} = k_{cat} * E_{total}$\n",
    "\n",
    "**Endmember 2:** if the concentration of the substrate is equal to the kinetic ratio (see above) then $V = \\frac{k_{+2} * E_{total} * S}{2 * S} = \\frac{k_{+2} * E_{total}}{2} = \\frac{V_{max}}{2}$"
   ]
  },
  {
   "cell_type": "code",
   "execution_count": null,
   "metadata": {},
   "outputs": [],
   "source": []
  }
 ],
 "metadata": {
  "kernelspec": {
   "display_name": "Python 3 (Spyder)",
   "language": "python3",
   "name": "python3"
  },
  "language_info": {
   "codemirror_mode": {
    "name": "ipython",
    "version": 3
   },
   "file_extension": ".py",
   "mimetype": "text/x-python",
   "name": "python",
   "nbconvert_exporter": "python",
   "pygments_lexer": "ipython3",
   "version": "3.6.8"
  }
 },
 "nbformat": 4,
 "nbformat_minor": 2
}
