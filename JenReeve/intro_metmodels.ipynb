{
 "cells": [
  {
   "cell_type": "markdown",
   "metadata": {},
   "source": [
    "Notebook to go through basics of biochemical modeling (ie trying to convert my notes into a coherent document.\n",
    "\n",
    "First things first: set up the python packages we need."
   ]
  },
  {
   "cell_type": "code",
   "execution_count": null,
   "metadata": {},
   "outputs": [],
   "source": [
    "import tellurium as te # this will be our workhorse package\n",
    "import math # helpful for some non-Tellurium based calculations\n",
    "import numpy as np # helpful for some non-Tellurium based calculations\n",
    "import matplotlib.pyplot as plt # let's us mess around with plots a bit more"
   ]
  },
  {
   "cell_type": "markdown",
   "metadata": {},
   "source": [
    "Some resources that will be useful:\n",
    "\n",
    "We are using [Tellurium](tellurium.analogmachine.org) for do the modeling of biological systems. The [documentation](https://tellurium.readthedocs.io/en/latest/index.html#) is quite useful and full of examples.\n",
    "\n",
    "There is a useful textbook that you may want to grab a pdf copy of *Systems Biology: Introduction to Pathway Modeling* (on the [analogmachine website](http://books.analogmachine.org/)).\n",
    "\n",
    "Tellurium makes it very easy to import models from [Biomodels](https://www.ebi.ac.uk/biomodels/) (where you can browse 10k models).\n",
    "\n"
   ]
  }
 ],
 "metadata": {
  "kernelspec": {
   "display_name": "Python 3 (Spyder)",
   "language": "python3",
   "name": "python3"
  },
  "language_info": {
   "codemirror_mode": {
    "name": "ipython",
    "version": 3
   },
   "file_extension": ".py",
   "mimetype": "text/x-python",
   "name": "python",
   "nbconvert_exporter": "python",
   "pygments_lexer": "ipython3",
   "version": "3.6.8"
  }
 },
 "nbformat": 4,
 "nbformat_minor": 2
}
