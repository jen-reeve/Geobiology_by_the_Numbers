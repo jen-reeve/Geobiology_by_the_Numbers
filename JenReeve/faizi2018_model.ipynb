{
  "cells": [
    {
      "cell_type": "markdown",
      "source": [
        "Building the model described in Faizi et. al. 2018 \"A model of optimal protein allocation during phototrophic growth\" Biosystems, 166: 26-36."
      ],
      "metadata": {}
    },
    {
      "cell_type": "code",
      "source": [
        "import tellurium as te\n",
        "import math\n",
        "import numpy as np\n",
        "import matplotlib.pyplot as plt"
      ],
      "outputs": [],
      "execution_count": null,
      "metadata": {
        "collapsed": false,
        "outputHidden": false,
        "inputHidden": false
      }
    },
    {
      "cell_type": "code",
      "source": [
        "model Faizi\n",
        "    compartment cell;\n",
        "    var cix; # extracellular inorganic carbon\n",
        "    var ci; # intracellular inorganic carbon\n",
        "    var e; # energy units (here representing the ATP, NADH, etc pool)\n",
        "    var aa; # amino acids\n",
        "    var P0; # inactivated photosynthetic machinery\n",
        "    var P*; # activated photosynthetic machinery\n",
        "    var T; # transporter protein for inorganic carbon\n",
        "    var M; # metabolic multi-enzyme complex\n",
        "    var R; # ribosome\n",
        "    \n",
        "    Pm = 0.0018; # permeability, dm min-1\n",
        "    a_cell = 3.85e-9; # cell surface area, dm2 cell-1\n",
        "    v_cell = 2.24e-14; # L, cell-1\n",
        "    N_a = 6.022e23; # Avogadro constant, mol-1\n",
        "    k_cat_T = 726; # maximal import rate, min-1\n",
        "    K_T = 15; # half-sat constant of T, uM\n",
        "    k_cat_M = 545; # maximal metabolic rate, min-1\n",
        "    K_M = 2441560; # half-sat constant of M, molecules cell-1\n",
        "    Y_max = 1320; # maximal translation rate, aa min-1 molecules-1\n",
        "    K_aa = 10000; # half-sat constant for aa, molecule cell-1\n",
        "    K_e = 10000; # half-sat constant for e, molecule cell-1\n",
        "    abs_xsec = 0.166; # effective absorption cross-section of P, m2 uE-1\n",
        "    turnover_P = 1900; # maximal turnover rate of P, min-1\n",
        "    k_d = 1.6e-6; # rate constant for photodamage\n",
        "    K_i = 1.0e8; # product-inhibition constant for e synthesis, molecule cell-1\n",
        "    dens = 1.4e10; # average density, aa cell-1\n",
        "    n_R = 7358; # ribosome length, aa molecule-1\n",
        "    n_T = 1681; # transporter length, aa molecule-1\n",
        "    n_M = 28630; # metabolic enzyme complex length, aa molecule-1\n",
        "    n_P = 95451; # photosynthetic unit length, aa molecule-1\n",
        "    m_u = 45; # e needed to create one aa\n",
        "    m_y = 3; # e needed for one translational elongation step\n",
        "    m_omega = 8; # e produced by P cycle\n",
        "    m_c = 5; # average carbon chain length of aa\n",
        "    \n",
        "    \n",
        "    v_t: cix + e -> ci; T * k_cat_T * (cix/(K_T+cix)) * (e/(K_e+e));\n",
        "    v_m: ci + e ->\n",
        "end"
      ],
      "outputs": [],
      "execution_count": null,
      "metadata": {
        "collapsed": false,
        "outputHidden": false,
        "inputHidden": false,
        "tellurium": {
          "te_cell_type": "antimony"
        }
      }
    },
    {
      "cell_type": "code",
      "source": [
        "Faizi.reset()\n",
        "Faizi.simulate(start = 0, end = 5.64e14, steps = 1000,selections =['time',])\n",
        "Faizi.plot()\n",
        "\n",
        "Faizi.steadyStateSelections = ['']\n",
        "values = Faizi.getSteadyStateValues()\n",
        "selections = Faizi.steadyStateSelections\n",
        "print(values)\n",
        "print(selections)"
      ],
      "outputs": [],
      "execution_count": null,
      "metadata": {
        "collapsed": false,
        "outputHidden": false,
        "inputHidden": false
      }
    }
  ],
  "metadata": {
    "kernelspec": {
      "name": "python3",
      "language": "python",
      "display_name": "Python 3 (built-in)"
    },
    "kernel_info": {
      "name": "python3"
    },
    "language_info": {
      "name": "python",
      "version": "3.6.2",
      "mimetype": "text/x-python",
      "codemirror_mode": {
        "name": "ipython",
        "version": 3
      },
      "pygments_lexer": "ipython3",
      "nbconvert_exporter": "python",
      "file_extension": ".py"
    }
  },
  "nbformat": 4,
  "nbformat_minor": 4
}