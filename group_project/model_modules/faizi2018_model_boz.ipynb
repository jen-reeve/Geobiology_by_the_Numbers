{
  "cells": [
    {
      "cell_type": "markdown",
      "source": [
        "Building the model described in Faizi et. al. 2018 \"A model of optimal protein allocation during phototrophic growth\" Biosystems, 166: 26-36."
      ],
      "metadata": {}
    },
    {
      "cell_type": "code",
      "source": [
        "import tellurium as te\n",
        "import math\n",
        "import numpy as np\n",
        "import matplotlib.pyplot as plt"
      ],
      "outputs": [],
      "execution_count": null,
      "metadata": {
        "collapsed": false,
        "outputHidden": false,
        "inputHidden": false
      }
    },
    {
      "cell_type": "code",
      "source": [
        "model Faizi\n",
        "    \n",
        "    var Ci_ext; # extracellular inorganic carbon\n",
        "    var Ci_int; # intracellular inorganic carbon\n",
        "    var Energy; # energy units (here representing the ATP, NADH, etc pool)\n",
        "    var AminoAcid; # amino acids\n",
        "    var Photoenzyme; # photosynthetic machinery\n",
        "    var Transporter; # transporter protein for inorganic carbon\n",
        "    var Metaenzyme; # metabolic multi-enzyme complex\n",
        "    var Ribosome; # ribosome\n",
        "    \n",
        "    compartment Environment, Cell\n",
        "    \n",
        "    Environment = 1.0;\n",
        "    Cell = 1.0;\n",
        "    \n",
        "    species Ci_ext, Ci_int, Energy, AminoAcid, Ribosome, Transporter, Metaenzyme, Photoenzyme;\n",
        "    \n",
        "    Ci_ext in Environment;\n",
        "    Ci_int in Cell;\n",
        "    Energy in Cell;\n",
        "    AminoAcid in Cell;\n",
        "    Ribosome in Cell; \n",
        "    Transporter in Cell; \n",
        "    Metaenzyme in Cell; \n",
        "    Photoenzyme in Cell; \n",
        "    \n",
        "    // Initializing variables\n",
        "    Energy = 1.0e4\n",
        "    AminoAcid = 1.0e4\n",
        "    Ribosome = 1.0e4\n",
        "    Transporter = 1.0e4\n",
        "    Metaenzyme = 1.0e4\n",
        "    Photoenzyme = 1.0e4 \n",
        "    \n",
        "    // Setting proportions of protein translation rates (beta_i > 0; sum(beta_i)<=1)    \n",
        "    beta_R = 0.05\n",
        "    beta_T = 0.25\n",
        "    beta_M = 0.25\n",
        "    beta_P = 0.025\n",
        " \n",
        "    // Geometric Constants\n",
        "    Perm_membrane = 0.0018; # permeability, dm min-1\n",
        "    area_cell = 3.85e-9; # cell surface area, dm2 cell-1\n",
        "    volume_cell = 2.24e-14; # L, cell-1\n",
        "    N_a = 6.022e23; # Avogadro constant, mol-1\n",
        "    \n",
        "    // Kinetic Constants\n",
        "    kcat_T = 726; # maximal import rate, min-1\n",
        "    Km_T = 15; # Menten constant of T, uM\n",
        "    kcat_M = 545; # maximal metabolic rate, min-1\n",
        "    Km_M = 2441560; # Menten constant of M, molecules cell-1\n",
        "    gamma_max = 1320; # maximal translation rate, aa min-1 molecules-1\n",
        "    Km_AA = 10000; # Menten constant for aa, molecule cell-1\n",
        "    Km_E = 10000; # Menten constant for e, molecule cell-1\n",
        "    abs_xsec = 0.166; # effective absorption cross-section of P, m2 uE-1\n",
        "    turnover_P = 1900; # maximal turnover rate of P, min-1\n",
        "    k_d = 1.6e-6; # rate constant for photodamage\n",
        "    K_i = 1.0e8; # product-inhibition constant for e synthesis, molecule cell-1\n",
        "\n",
        "    // Material Constants \n",
        "    Dens_C = 1.4e10; # average cell density, aa cell-1\n",
        "    n_R = 7358; # ribosome length, aa molecule-1\n",
        "    n_T = 1681; # transporter length, aa molecule-1\n",
        "    n_M = 28630; # metabolic enzyme complex length, aa molecule-1\n",
        "    n_P = 95451; # photosynthetic enzyme complex length, aa molecule-1\n",
        "    m_mu = 45; # e needed to create one aa\n",
        "    m_gamma = 3; # e needed for one translational elongation step\n",
        "    m_omega = 8; # e produced by Photosynthetic cycle\n",
        "    m_c = 5; # average carbon chain length of aa\n",
        "    \n",
        "    // Assignment Rules\n",
        "    v_t := kcat_T * Transporter * Ci_ext / (Km_T + Ci_ext) * Energy / (Km_E + Energy);\n",
        "    \n",
        "    gamma_R := beta_R * gamma_max / n_R * Ribosome * Energy / (Km_E + Energy) * AminoAcid / (Km_AA + AminoAcid) \n",
        "    gamma_T := beta_T * gamma_max / n_T * Ribosome * Energy / (Km_E + Energy) * AminoAcid / (Km_AA + AminoAcid) \n",
        "    gamma_M := beta_M * gamma_max / n_M * Ribosome * Energy / (Km_E + Energy) * AminoAcid / (Km_AA + AminoAcid)\n",
        "    gamma_P := beta_P * gamma_max / n_P * Ribosome * Energy / (Km_E + Energy) * AminoAcid / (Km_AA + AminoAcid) \n",
        "\n",
        "    mu := v_t / m_c * 1. / Dens_c \n",
        "    \n",
        "    // Rate Laws\n",
        "\n",
        "    R_P: -> Ribosome; gamma_R\n",
        "    \n",
        "    R_C: Ribosome ->; mu * Ribosome\n",
        "    \n",
        "    T_P: -> Transporter; gamma_T\n",
        "    \n",
        "    T_C: Transporter ->; mu * Transporter\n",
        "\n",
        "    M_P: -> Metaenzyme; gamma_M\n",
        "    \n",
        "    M_C: Metaenzyme ->; mu * Metaenzyme\n",
        "\n",
        "    P_P: -> Photoenzyme; gamma_P\n",
        "    \n",
        "    P_C: Photoenzyme ->; mu * Photoenzyme\n",
        "   \n",
        "end"
      ],
      "outputs": [],
      "execution_count": null,
      "metadata": {
        "collapsed": false,
        "outputHidden": false,
        "inputHidden": false,
        "tellurium": {
          "te_cell_type": "antimony"
        }
      }
    },
    {
      "cell_type": "code",
      "source": [
        "Faizi.reset()\n",
        "Faizi.simulate(start = 0, end = 5.64e14, steps = 1000,selections =['time',])\n",
        "Faizi.plot()\n",
        "\n",
        "Faizi.steadyStateSelections = ['']\n",
        "values = Faizi.getSteadyStateValues()\n",
        "selections = Faizi.steadyStateSelections\n",
        "print(values)\n",
        "print(selections)"
      ],
      "outputs": [],
      "execution_count": null,
      "metadata": {
        "collapsed": false,
        "outputHidden": false,
        "inputHidden": false
      }
    }
  ],
  "metadata": {
    "kernelspec": {
      "name": "python3",
      "language": "python",
      "display_name": "Python 3 (built-in)"
    },
    "kernel_info": {
      "name": "python3"
    },
    "language_info": {
      "name": "python",
      "version": "3.6.3",
      "mimetype": "text/x-python",
      "codemirror_mode": {
        "name": "ipython",
        "version": 3
      },
      "pygments_lexer": "ipython3",
      "nbconvert_exporter": "python",
      "file_extension": ".py"
    }
  },
  "nbformat": 4,
  "nbformat_minor": 4
}