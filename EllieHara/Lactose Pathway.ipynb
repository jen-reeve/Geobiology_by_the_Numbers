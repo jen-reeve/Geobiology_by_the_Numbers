{
  "cells": [
    {
      "cell_type": "markdown",
      "source": [
        "Model is the lactose pathway. lactose is passively diffused through porin pores, active uptake by lac Permease, and then hydrolysis by beta-Galactosidase. "
      ],
      "metadata": {}
    },
    {
      "cell_type": "code",
      "source": [
        "import tellurium as te\n",
        "print (\"success\")"
      ],
      "outputs": [],
      "execution_count": 31,
      "metadata": {
        "collapsed": false,
        "outputHidden": false,
        "inputHidden": false
      }
    },
    {
      "cell_type": "markdown",
      "source": [
        "Make sure you understand what you're plotting. The fundamental variable that gets changed is time because this is a kinetic modeling package."
      ],
      "metadata": {}
    },
    {
      "cell_type": "code",
      "source": [
        "model = \"\"\"\n",
        "model test\n",
        "    compartment C1;\n",
        "    C1 = 1.0;\n",
        "    species S1, S2;\n",
        "    S1 = 100; S2= 0;\n",
        "    J1: S1 -> S2; (kcat*Etot*S1)/(km+S1);\n",
        "    km = 5.5; #mM\n",
        "    kcat = 10; #1/s\n",
        "    Etot = 10;\n",
        "    end\n",
        "    \"\"\"\n",
        "r = te.loada(model)\n",
        "r.simulate(0, 1, 1000, [\"time\",\"J1\"]) #from, to, steps\n",
        "r.plot()\n",
        "\n"
      ],
      "outputs": [],
      "execution_count": 38,
      "metadata": {
        "collapsed": false,
        "outputHidden": false,
        "inputHidden": false
      }
    },
    {
      "cell_type": "markdown",
      "source": [
        "Instead of doing the model within a python cell, it's better to use a model cell and get in the habit of using that. It's easier to not have to reload the entire model to plot or do any manipulations. It also allows you to order stuff in whatever order. It cross checks to make sure all the variables are there so you don't have to work completely linearly.\n",
        "\n",
        "-> means irreversible\n",
        "\n",
        "=> expect reversible rate law.\n",
        "\n",
        "you can calculate the steady state values \n",
        "values = LacPath.getSteadyStateValues()\n",
        "selections = LacPath.steadyStateSelections\n",
        "\n",
        "print(values)\n",
        "\n",
        "print(selections)\n",
        "\n",
        "Because in a tiny cell, the concentrations are small, they'll perturb quickly. So steady state will occur very rapidly. So we'll mostly worry about what happens at steady state. \n"
      ],
      "metadata": {}
    },
    {
      "cell_type": "code",
      "source": [
        "model \n",
        "    compartment C2, C3;\n",
        "    \n",
        "    species S3 in C3\n",
        "    \n",
        "    J34: S3 -> ; kcat_34*Etot_34*S3 / (Km_34 + S3)\n",
        "    kcat_34 = 6.42e2; #S^-1; from Juers et al (2012)\n",
        "    Etot_34 = 1.0e-3 ; #M, free parameter\n",
        "    Km_34 = 1.01e1 ; # M; from BRENDA 5.5e-3\n",
        "    \n",
        "    S3 = 100;\n",
        "    \n",
        "    end\n",
        "\n\n",
        "    \n",
        "    \n",
        "    \n",
        "    \n",
        "    \n",
        "    \n",
        "    \n",
        "    \n",
        "    \n",
        "    \n",
        "    \n",
        "    "
      ],
      "outputs": [],
      "execution_count": null,
      "metadata": {
        "collapsed": false,
        "outputHidden": false,
        "inputHidden": false,
        "tellurium": {
          "te_cell_type": "antimony"
        }
      }
    }
  ],
  "metadata": {
    "kernelspec": {
      "name": "python3",
      "language": "python",
      "display_name": "Python 3 (built-in)"
    },
    "kernel_info": {
      "name": "python3"
    },
    "language_info": {
      "name": "python",
      "version": "3.6.2",
      "mimetype": "text/x-python",
      "codemirror_mode": {
        "name": "ipython",
        "version": 3
      },
      "pygments_lexer": "ipython3",
      "nbconvert_exporter": "python",
      "file_extension": ".py"
    }
  },
  "nbformat": 4,
  "nbformat_minor": 4
}