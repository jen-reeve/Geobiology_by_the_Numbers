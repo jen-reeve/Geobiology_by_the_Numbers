{
  "cells": [
    {
      "cell_type": "markdown",
      "source": [
        "Model is the lactose pathway. lactose is passively diffused through porin pores, active uptake by lac Permease, and then hydrolysis by beta-Galactosidase. "
      ],
      "metadata": {}
    },
    {
      "cell_type": "code",
      "source": [
        "import tellurium as te\n",
        "print (\"success\")"
      ],
      "outputs": [
        {
          "output_type": "stream",
          "name": "stdout",
          "text": [
            "success\n"
          ]
        }
      ],
      "execution_count": 2,
      "metadata": {
        "collapsed": false,
        "outputHidden": false,
        "inputHidden": false
      }
    },
    {
      "cell_type": "markdown",
      "source": [
        "Make sure you understand what you're plotting. The fundamental variable that gets changed is time because this is a kinetic modeling package."
      ],
      "metadata": {}
    },
    {
      "cell_type": "markdown",
      "source": [
        "Instead of doing the model within a python cell, it's better to use a model cell and get in the habit of using that. It's easier to not have to reload the entire model to plot or do any manipulations. It also allows you to order stuff in whatever order. It cross checks to make sure all the variables are there so you don't have to work completely linearly.\n",
        "\n",
        "-> means irreversible\n",
        "\n",
        "=> expect reversible rate law.\n",
        "\n",
        "you can calculate the steady state values \n",
        "values = LacPath.getSteadyStateValues()\n",
        "selections = LacPath.steadyStateSelections\n",
        "\n",
        "print(values)\n",
        "\n",
        "print(selections)\n",
        "\n",
        "Because in a tiny cell, the concentrations are small, they'll perturb quickly. So steady state will occur very rapidly. So we'll mostly worry about what happens at steady state. \n"
      ],
      "metadata": {}
    },
    {
      "cell_type": "code",
      "source": [
        "model \n",
        "    compartment C2, C3;\n",
        "    \n",
        "    species S3 in C3\n",
        "    \n",
        "    J34: S3 -> ; kcat_34*Etot_34*S3 / (Km_34 + S3)\n",
        "    kcat_34 = 6.42e2; #S^-1; from Juers et al (2012)\n",
        "    Etot_34 = 1.0e-3 ; #M, free parameter\n",
        "    Km_34 = 1.01e1 ; # M; from BRENDA 5.5e-3\n",
        "    \n",
        "    S3 = 100;\n",
        "    \n",
        "    end\n",
        "    "
      ],
      "outputs": [],
      "execution_count": null,
      "metadata": {
        "collapsed": false,
        "outputHidden": false,
        "inputHidden": false,
        "tellurium": {
          "te_cell_type": "antimony"
        }
      }
    },
    {
      "cell_type": "code",
      "source": [
        "import math\n",
        "import numpy as np\n",
        "import tellurium as te\n",
        "# this is our calculation to check our numerical calculations\n",
        "# 1 liter = 1 dm^3\n",
        "area = 1.0e-10; # dm^2\n",
        "permeability = 1.0e-8; # dm s-1\n",
        "km = 5.5e-3; # M\n",
        "S1 = 10e-3; # M\n",
        "kcat = 6.42e2; # s-1\n",
        "etot = 1.0e-6; # M\n",
        "vol_cell = 1.0e-15; # L or dm^3\n",
        "a = area * permeability;\n",
        "b = km*area*permeability-area*permeability*S1+kcat*etot*vol_cell;\n",
        "c = -1*km*area*permeability*S1;\n",
        "S3_ss=(-b+(b**2-4*a*c)**0.5)/(2*a);\n",
        "print(a,b,c)\n",
        "print('S3_ss',S3_ss)\n"
      ],
      "outputs": [
        {
          "output_type": "stream",
          "name": "stdout",
          "text": [
            "1e-18 6.375000000000001e-19 -5.5e-23\n",
            "S3_ss 8.626283721240081e-05\n"
          ]
        }
      ],
      "execution_count": 1,
      "metadata": {
        "collapsed": false,
        "outputHidden": false,
        "inputHidden": false
      }
    },
    {
      "cell_type": "code",
      "source": [
        "model = '''LacPath\n",
        "    compartment inside_cell;\n",
        "    inside_cell = 1.0;\n",
        "    compartment outside_cell;\n",
        "    outside_cell = 1000.0;\n",
        "    species lactose, glucgalac;\n",
        "    const species outside_lactose;\n",
        "    unit M = mole / liter\n",
        "    unit inv_sec = 1. / seconds\n",
        "    unit um = 10.e-6 meters\n",
        "    unit dm = 10.e-2 meters\n",
        "    unit vol_conv = 1 liter / 1 dm\n",
        "    \n",
        "    lactose = 0.1 M; # M; free parameter\n",
        "    glucgalac = 0.5 M;\n",
        "    outside_lactose = 0.1 M;\n",
        "\n",
        "    lactose in cytoplasm; glucgalac in cytoplasm;\n",
        "    ex_lactose in environment\n",
        "    \n",
        "    J34: lactose -> glucgalac; kcat*Etot*lactose/(Km+lactose);\n",
        "\n",
        "    kcat = 6.42e2 inv_sec; #s^-1; from Juers et al (2012) \n",
        "    Etot = 1.e-6 M; # M; free parameter\n",
        "    Km = 5.5e-3 M; # M; from BRENDA\n",
        "    \n",
        "    J13: outside_lactose => lactose; area*permeability*(outside_lactose-lactose);\n",
        "    #J31: lactose => ex_lactose; area*permeability*(lactose-ex_lactose)*conversion;\n",
        "    \n",
        "    area = 1e-10 dm^2;\n",
        "    permeability = 1e-8 dm * 1 inv_sec;\n",
        "    conversion = 1 vol_conv;\n",
        "end\n",
        "'''\n",
        "\n",
        "r=te.loada(model)\n",
        "\n"
      ],
      "outputs": [
        {
          "output_type": "error",
          "ename": "RuntimeError",
          "evalue": "Errors encountered when trying to load model into Antimony:\nError in model string, line 1:  syntax error, unexpected '=', expecting element name",
          "traceback": [
            "\u001b[1;31m---------------------------------------------------------------------------\u001b[0m",
            "\u001b[1;31mRuntimeError\u001b[0m                              Traceback (most recent call last)",
            "\u001b[1;32m<ipython-input-5-d754c767435b>\u001b[0m in \u001b[0;36m<module>\u001b[1;34m()\u001b[0m\n\u001b[1;32m----> 1\u001b[1;33m \u001b[0mget_ipython\u001b[0m\u001b[1;33m(\u001b[0m\u001b[1;33m)\u001b[0m\u001b[1;33m.\u001b[0m\u001b[0mrun_cell_magic\u001b[0m\u001b[1;33m(\u001b[0m\u001b[1;34m'crn'\u001b[0m\u001b[1;33m,\u001b[0m \u001b[1;34m''\u001b[0m\u001b[1;33m,\u001b[0m \u001b[1;34m\"model = '''LacPath\\n    compartment inside_cell;\\n    inside_cell = 1.0;\\n    compartment outside_cell;\\n    outside_cell = 1000.0;\\n    species lactose, glucgalac;\\n    const species outside_lactose;\\n    unit M = mole / liter\\n    unit inv_sec = 1. / seconds\\n    unit um = 10.e-6 meters\\n    unit dm = 10.e-2 meters\\n    unit vol_conv = 1 liter / 1 dm\\n    \\n    lactose = 0.1 M; # M; free parameter\\n    glucgalac = 0.5 M;\\n    outside_lactose = 0.1 M;\\n\\n    lactose in cytoplasm; glucgalac in cytoplasm;\\n    ex_lactose in environment\\n    \\n    J34: lactose -> glucgalac; kcat*Etot*lactose/(Km+lactose);\\n\\n    kcat = 6.42e2 inv_sec; #s^-1; from Juers et al (2012) \\n    Etot = 1.e-6 M; # M; free parameter\\n    Km = 5.5e-3 M; # M; from BRENDA\\n    \\n    J13: outside_lactose => lactose; area*permeability*(outside_lactose-lactose);\\n    #J31: lactose => ex_lactose; area*permeability*(lactose-ex_lactose)*conversion;\\n    \\n    area = 1e-10 dm^2;\\n    permeability = 1e-8 dm * 1 inv_sec;\\n    conversion = 1 vol_conv;\\nend\\n'''\\n\\nr=te.loada(model)\\n\\n\"\u001b[0m\u001b[1;33m)\u001b[0m\u001b[1;33m\u001b[0m\u001b[0m\n\u001b[0m",
            "\u001b[1;32m~\\AppData\\Roaming\\Tellurium\\telocal\\python-3.6.2\\lib\\site-packages\\IPython\\core\\interactiveshell.py\u001b[0m in \u001b[0;36mrun_cell_magic\u001b[1;34m(self, magic_name, line, cell)\u001b[0m\n\u001b[0;32m   2101\u001b[0m             \u001b[0mmagic_arg_s\u001b[0m \u001b[1;33m=\u001b[0m \u001b[0mself\u001b[0m\u001b[1;33m.\u001b[0m\u001b[0mvar_expand\u001b[0m\u001b[1;33m(\u001b[0m\u001b[0mline\u001b[0m\u001b[1;33m,\u001b[0m \u001b[0mstack_depth\u001b[0m\u001b[1;33m)\u001b[0m\u001b[1;33m\u001b[0m\u001b[0m\n\u001b[0;32m   2102\u001b[0m             \u001b[1;32mwith\u001b[0m \u001b[0mself\u001b[0m\u001b[1;33m.\u001b[0m\u001b[0mbuiltin_trap\u001b[0m\u001b[1;33m:\u001b[0m\u001b[1;33m\u001b[0m\u001b[0m\n\u001b[1;32m-> 2103\u001b[1;33m                 \u001b[0mresult\u001b[0m \u001b[1;33m=\u001b[0m \u001b[0mfn\u001b[0m\u001b[1;33m(\u001b[0m\u001b[0mmagic_arg_s\u001b[0m\u001b[1;33m,\u001b[0m \u001b[0mcell\u001b[0m\u001b[1;33m)\u001b[0m\u001b[1;33m\u001b[0m\u001b[0m\n\u001b[0m\u001b[0;32m   2104\u001b[0m             \u001b[1;32mreturn\u001b[0m \u001b[0mresult\u001b[0m\u001b[1;33m\u001b[0m\u001b[0m\n\u001b[0;32m   2105\u001b[0m \u001b[1;33m\u001b[0m\u001b[0m\n",
            "\u001b[1;32m<decorator-gen-160>\u001b[0m in \u001b[0;36mcrn\u001b[1;34m(self, line, cell)\u001b[0m\n",
            "\u001b[1;32m~\\AppData\\Roaming\\Tellurium\\telocal\\python-3.6.2\\lib\\site-packages\\IPython\\core\\magic.py\u001b[0m in \u001b[0;36m<lambda>\u001b[1;34m(f, *a, **k)\u001b[0m\n\u001b[0;32m    185\u001b[0m     \u001b[1;31m# but it's overkill for just that one bit of state.\u001b[0m\u001b[1;33m\u001b[0m\u001b[1;33m\u001b[0m\u001b[0m\n\u001b[0;32m    186\u001b[0m     \u001b[1;32mdef\u001b[0m \u001b[0mmagic_deco\u001b[0m\u001b[1;33m(\u001b[0m\u001b[0marg\u001b[0m\u001b[1;33m)\u001b[0m\u001b[1;33m:\u001b[0m\u001b[1;33m\u001b[0m\u001b[0m\n\u001b[1;32m--> 187\u001b[1;33m         \u001b[0mcall\u001b[0m \u001b[1;33m=\u001b[0m \u001b[1;32mlambda\u001b[0m \u001b[0mf\u001b[0m\u001b[1;33m,\u001b[0m \u001b[1;33m*\u001b[0m\u001b[0ma\u001b[0m\u001b[1;33m,\u001b[0m \u001b[1;33m**\u001b[0m\u001b[0mk\u001b[0m\u001b[1;33m:\u001b[0m \u001b[0mf\u001b[0m\u001b[1;33m(\u001b[0m\u001b[1;33m*\u001b[0m\u001b[0ma\u001b[0m\u001b[1;33m,\u001b[0m \u001b[1;33m**\u001b[0m\u001b[0mk\u001b[0m\u001b[1;33m)\u001b[0m\u001b[1;33m\u001b[0m\u001b[0m\n\u001b[0m\u001b[0;32m    188\u001b[0m \u001b[1;33m\u001b[0m\u001b[0m\n\u001b[0;32m    189\u001b[0m         \u001b[1;32mif\u001b[0m \u001b[0mcallable\u001b[0m\u001b[1;33m(\u001b[0m\u001b[0marg\u001b[0m\u001b[1;33m)\u001b[0m\u001b[1;33m:\u001b[0m\u001b[1;33m\u001b[0m\u001b[0m\n",
            "\u001b[1;32m~\\AppData\\Roaming\\Tellurium\\telocal\\python-3.6.2\\lib\\site-packages\\temagics\\magics.py\u001b[0m in \u001b[0;36mcrn\u001b[1;34m(self, line, cell)\u001b[0m\n\u001b[0;32m     40\u001b[0m \u001b[1;33m\u001b[0m\u001b[0m\n\u001b[0;32m     41\u001b[0m         \u001b[1;31m# convert cell content (Antimony) to raw SBML\u001b[0m\u001b[1;33m\u001b[0m\u001b[1;33m\u001b[0m\u001b[0m\n\u001b[1;32m---> 42\u001b[1;33m         \u001b[0mmodule\u001b[0m\u001b[1;33m,\u001b[0m\u001b[0msbml_str\u001b[0m \u001b[1;33m=\u001b[0m \u001b[0mantimonyConverter\u001b[0m\u001b[1;33m(\u001b[0m\u001b[1;33m)\u001b[0m\u001b[1;33m.\u001b[0m\u001b[0mantimonyToSBML\u001b[0m\u001b[1;33m(\u001b[0m\u001b[0mcell\u001b[0m\u001b[1;33m)\u001b[0m\u001b[1;33m\u001b[0m\u001b[0m\n\u001b[0m\u001b[0;32m     43\u001b[0m \u001b[1;33m\u001b[0m\u001b[0m\n\u001b[0;32m     44\u001b[0m         \u001b[1;31m# override name?\u001b[0m\u001b[1;33m\u001b[0m\u001b[1;33m\u001b[0m\u001b[0m\n",
            "\u001b[1;32m~\\AppData\\Roaming\\Tellurium\\telocal\\python-3.6.2\\lib\\site-packages\\tellurium\\teconverters\\convert_antimony.py\u001b[0m in \u001b[0;36mantimonyToSBML\u001b[1;34m(self, sb_str, SBO)\u001b[0m\n\u001b[0;32m     94\u001b[0m         \u001b[1;32mif\u001b[0m \u001b[0mself\u001b[0m\u001b[1;33m.\u001b[0m\u001b[0mcheckAntimonyReturnCode\u001b[0m\u001b[1;33m(\u001b[0m\u001b[0mcode\u001b[0m\u001b[1;33m)\u001b[0m\u001b[1;33m:\u001b[0m\u001b[1;33m\u001b[0m\u001b[0m\n\u001b[0;32m     95\u001b[0m             \u001b[0merrors\u001b[0m \u001b[1;33m=\u001b[0m \u001b[0msb\u001b[0m\u001b[1;33m.\u001b[0m\u001b[0mgetLastError\u001b[0m\u001b[1;33m(\u001b[0m\u001b[1;33m)\u001b[0m\u001b[1;33m\u001b[0m\u001b[0m\n\u001b[1;32m---> 96\u001b[1;33m             \u001b[1;32mraise\u001b[0m \u001b[0mRuntimeError\u001b[0m\u001b[1;33m(\u001b[0m\u001b[1;34m'Errors encountered when trying to load model into Antimony:\\n{}'\u001b[0m\u001b[1;33m.\u001b[0m\u001b[0mformat\u001b[0m\u001b[1;33m(\u001b[0m\u001b[0merrors\u001b[0m\u001b[1;33m)\u001b[0m\u001b[1;33m)\u001b[0m\u001b[1;33m\u001b[0m\u001b[0m\n\u001b[0m\u001b[0;32m     97\u001b[0m \u001b[1;33m\u001b[0m\u001b[0m\n\u001b[0;32m     98\u001b[0m         \u001b[0mmodule\u001b[0m \u001b[1;33m=\u001b[0m \u001b[0msb\u001b[0m\u001b[1;33m.\u001b[0m\u001b[0mgetMainModuleName\u001b[0m\u001b[1;33m(\u001b[0m\u001b[1;33m)\u001b[0m\u001b[1;33m\u001b[0m\u001b[0m\n",
            "\u001b[1;31mRuntimeError\u001b[0m: Errors encountered when trying to load model into Antimony:\nError in model string, line 1:  syntax error, unexpected '=', expecting element name"
          ]
        }
      ],
      "execution_count": 5,
      "metadata": {
        "collapsed": false,
        "outputHidden": false,
        "inputHidden": false,
        "tellurium": {
          "te_cell_type": "antimony"
        }
      }
    },
    {
      "cell_type": "code",
      "source": [
        "LacPath.reset()\n",
        "LacPath.simulate(0., 100., 1000) #'S1','J1'\n",
        "LacPath.plot()\n",
        "\n",
        "values = LacPath.getSteadyStateValues()\n",
        "selections = LacPath.steadyStateSelections\n",
        "print(values)\n",
        "print(selections)"
      ],
      "outputs": [
        {
          "output_type": "error",
          "ename": "NameError",
          "evalue": "name 'LacPath' is not defined",
          "traceback": [
            "\u001b[1;31m---------------------------------------------------------------------------\u001b[0m",
            "\u001b[1;31mNameError\u001b[0m                                 Traceback (most recent call last)",
            "\u001b[1;32m<ipython-input-4-a3bfc2b738a9>\u001b[0m in \u001b[0;36m<module>\u001b[1;34m()\u001b[0m\n\u001b[1;32m----> 1\u001b[1;33m \u001b[0mLacPath\u001b[0m\u001b[1;33m.\u001b[0m\u001b[0mreset\u001b[0m\u001b[1;33m(\u001b[0m\u001b[1;33m)\u001b[0m\u001b[1;33m\u001b[0m\u001b[0m\n\u001b[0m\u001b[0;32m      2\u001b[0m \u001b[0mLacPath\u001b[0m\u001b[1;33m.\u001b[0m\u001b[0msimulate\u001b[0m\u001b[1;33m(\u001b[0m\u001b[1;36m0.\u001b[0m\u001b[1;33m,\u001b[0m \u001b[1;36m100.\u001b[0m\u001b[1;33m,\u001b[0m \u001b[1;36m1000\u001b[0m\u001b[1;33m)\u001b[0m \u001b[1;31m#'S1','J1'\u001b[0m\u001b[1;33m\u001b[0m\u001b[0m\n\u001b[0;32m      3\u001b[0m \u001b[0mLacPath\u001b[0m\u001b[1;33m.\u001b[0m\u001b[0mplot\u001b[0m\u001b[1;33m(\u001b[0m\u001b[1;33m)\u001b[0m\u001b[1;33m\u001b[0m\u001b[0m\n\u001b[0;32m      4\u001b[0m \u001b[1;33m\u001b[0m\u001b[0m\n\u001b[0;32m      5\u001b[0m \u001b[0mvalues\u001b[0m \u001b[1;33m=\u001b[0m \u001b[0mLacPath\u001b[0m\u001b[1;33m.\u001b[0m\u001b[0mgetSteadyStateValues\u001b[0m\u001b[1;33m(\u001b[0m\u001b[1;33m)\u001b[0m\u001b[1;33m\u001b[0m\u001b[0m\n",
            "\u001b[1;31mNameError\u001b[0m: name 'LacPath' is not defined"
          ]
        }
      ],
      "execution_count": 4,
      "metadata": {
        "collapsed": false,
        "outputHidden": false,
        "inputHidden": false
      }
    }
  ],
  "metadata": {
    "kernelspec": {
      "name": "python3",
      "language": "python",
      "display_name": "Python 3 (built-in)"
    },
    "kernel_info": {
      "name": "python3"
    },
    "language_info": {
      "name": "python",
      "version": "3.6.2",
      "mimetype": "text/x-python",
      "codemirror_mode": {
        "name": "ipython",
        "version": 3
      },
      "pygments_lexer": "ipython3",
      "nbconvert_exporter": "python",
      "file_extension": ".py"
    }
  },
  "nbformat": 4,
  "nbformat_minor": 4
}